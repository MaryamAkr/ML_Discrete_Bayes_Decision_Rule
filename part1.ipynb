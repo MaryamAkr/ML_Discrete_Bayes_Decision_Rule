{
  "nbformat": 4,
  "nbformat_minor": 0,
  "metadata": {
    "colab": {
      "name": "Untitled7.ipynb",
      "provenance": [],
      "collapsed_sections": []
    },
    "kernelspec": {
      "name": "python3",
      "display_name": "Python 3"
    }
  },
  "cells": [
    {
      "cell_type": "code",
      "metadata": {
        "id": "9kb9g_lpj89X"
      },
      "source": [
        "import numpy as np\n",
        "import math\n",
        "from functools import reduce\n",
        "from operator import mul\n"
      ],
      "execution_count": null,
      "outputs": []
    },
    {
      "cell_type": "code",
      "metadata": {
        "id": "q4Fs2njkog_m",
        "outputId": "6909ce24-a2b7-4694-a9ce-c98d08823db2",
        "colab": {
          "base_uri": "https://localhost:8080/",
          "height": 123
        }
      },
      "source": [
        "## Measurement Space D \n",
        "print('input the number of feature vectors (d1,d2,...,dN)')\n",
        "n = int(input('numbers are:'))\n",
        "\n",
        "print ('enter the value of Mn for each dimension')\n",
        "M = np.zeros(n)\n",
        "for i in range(n):\n",
        "    M[i] = int(input(i))\n",
        "\n"
      ],
      "execution_count": null,
      "outputs": [
        {
          "output_type": "stream",
          "text": [
            "input the number of feature vectors (d1,d2,...,dN)\n",
            "numbers are:3\n",
            "enter the value of Mn for each dimension\n",
            "3\n",
            "12\n",
            "21\n"
          ],
          "name": "stdout"
        }
      ]
    },
    {
      "cell_type": "code",
      "metadata": {
        "id": "lALZfQskJqFH",
        "outputId": "9c2029eb-e3ed-45a8-f8cf-d4c8496cac0f",
        "colab": {
          "base_uri": "https://localhost:8080/",
          "height": 55
        }
      },
      "source": [
        "## number of classes \n",
        "print('Enter the number of classes')\n",
        "k = int(input('enter :'))"
      ],
      "execution_count": null,
      "outputs": [
        {
          "output_type": "stream",
          "text": [
            "Enter the number of classes\n",
            "enter :2\n"
          ],
          "name": "stdout"
        }
      ]
    },
    {
      "cell_type": "code",
      "metadata": {
        "id": "QEGDSzMTJ0oe",
        "outputId": "c5e70196-cc66-4387-d1a2-2efeafcc42b6",
        "colab": {
          "base_uri": "https://localhost:8080/",
          "height": 140
        }
      },
      "source": [
        "## Input e the K × K economic gain matrix\n",
        "print('enter the economic gain matrix row wise')\n",
        "economic_gain = np.zeros((k, k))\n",
        "for i in range(k):\n",
        "    print('row')\n",
        "    for j in range(k):\n",
        "        economic_gain[i][j] = input(j)\n",
        "dim_prob = 1\n",
        "for element in M:\n",
        "    dim_prob = dim_prob * element\n",
        "length = int(dim_prob)\n",
        "prob_DgvnC = np.zeros((length, 2))\n",
        "\n",
        "tuple = np.zeros(n)\n",
        "p = np.zeros(k)\n"
      ],
      "execution_count": null,
      "outputs": [
        {
          "output_type": "stream",
          "text": [
            "enter the economic gain matrix row wise\n",
            "row\n",
            "1\n",
            "12\n",
            "row\n",
            "3\n",
            "11\n"
          ],
          "name": "stdout"
        }
      ]
    },
    {
      "cell_type": "code",
      "metadata": {
        "id": "wcTqV_riJ3yl"
      },
      "source": [
        "# compute linear address\n",
        "#linear address\n",
        "\n",
        "def get_mul_list(M):\n",
        "    x = []\n",
        "    for i in range(len(M) - 1):\n",
        "        x.append(reduce(mul, M[i + 1:], 1))\n",
        "    x.append(1)\n",
        "    return x\n",
        "X = get_mul_list(M)\t\n",
        "def get_lin_add(d_m): #d={d_1,d_2,...,d_N}\n",
        "    sum = 0\n",
        "    for i in range(n):\n",
        "        sum += X[i]*d_m[i]\n",
        "    print(\"linear address is:\")\n",
        "    print(sum)\n",
        "    return sum"
      ],
      "execution_count": null,
      "outputs": []
    },
    {
      "cell_type": "code",
      "metadata": {
        "id": "o7kL1k9HRG5m"
      },
      "source": [
        "total_d_known = int(input(\"enter the number of measurement vector d\"))\n",
        "d = np.zeros((total_d_known, n))\n",
        "print(\"Input d and P(d/c) the class conditional probabilities  class wise 0,1,2,... \")\n",
        "for measurement in range(total_d_known):\n",
        "  \n",
        "    print('enter the value of d')\n",
        "    for y in range(n):  # warning if probability is not in 0 and 1\n",
        "        d[measurement][y] = int(input())\n",
        "\n",
        "    for z in range(k):\n",
        "        print('class ')\n",
        "        p[z] = float(input(z))\n",
        "        if 1 < p[z] or p[z] < 0:\n",
        "            print('please give probability between 0 and 1')\n",
        "            break\n",
        "   # la = d[0]\n",
        "    #for j in range(n):\n",
        "     #   la = la * M[j] + (d[j])\n",
        "    #a = int(la)\n",
        "    a= int(get_lin_add(d[measurement]))\n",
        "    for w in range(k):\n",
        "        prob_DgvnC[a][w] = p[w]\n",
        "\n",
        "print(' Enter the values of prior class probabilities p_c where 0<=p_c<=1 classwise in the order of class 0,1,2.. ')\n",
        "p_c = np.zeros(k)\n",
        "for i in range(k):\n",
        "    p_c[i] = float(input('enter now'))\n",
        "from math import *\n",
        "# Compute P(c/d)\n",
        "prob_CgvnD = np.zeros((length, 2))\n",
        "prob_D = np.zeros(length)\n",
        "for i in range(length):\n",
        "    for j in range(k):\n",
        "        prob_D[i] = prob_D[i] + prob_DgvnC[i][j] * p_c[j]\n",
        "for i in range(length):\n",
        "    for j in range(k):\n",
        "        if (prob_D[i]!=0):\n",
        "            prob_CgvnD[i][j] = (prob_DgvnC[i][j] * p_c[j]) / prob_D[i]\n",
        "# compute p(c,d)\n",
        "prob_CandD = np.zeros((length, k))\n",
        "\n",
        "for i in range(length):\n",
        "    for j in range(k):\n",
        "        prob_CandD[i][j] = prob_CgvnD[i][j] * prob_D[i]\n",
        "# Compute decision rule:\n",
        "search = np.zeros(k)\n",
        "F_DgvnC = np.zeros((length, k))\n",
        "\n",
        "for i in range(length):\n",
        "    for j in range(k):\n",
        "        search[j] = np.dot(prob_CandD[i,:],economic_gain[j,:])                                                                                         \n",
        "    z = np.argmax(search)\n",
        "    F_DgvnC[i][z] = 1\n",
        "\n",
        "# Calculate the confusion matrix\n",
        "confusion_matrix = np.zeros((k, k))\n",
        "for i in range(k):\n",
        "    for j in range(k):\n",
        "        confusion_matrix[i][j] = np.dot(prob_CandD[:, i],  F_DgvnC[:, j])\n",
        "\n",
        "# Calculate the expected gain\n",
        "expected_gain = 0\n",
        "for i in range(k):\n",
        "    for j in range(k):\n",
        "        expected_gain = expected_gain + confusion_matrix[i][j] * economic_gain[i][j]\n",
        "print(expected_gain)"
      ],
      "execution_count": null,
      "outputs": []
    }
  ]
}